{
 "cells": [
  {
   "cell_type": "code",
   "execution_count": 5,
   "metadata": {},
   "outputs": [],
   "source": [
    "%reset -f"
   ]
  },
  {
   "cell_type": "code",
   "execution_count": 6,
   "metadata": {},
   "outputs": [
    {
     "name": "stdout",
     "output_type": "stream",
     "text": [
      "\n",
      " o  Retrieving project data"
     ]
    },
    {
     "name": "stderr",
     "output_type": "stream",
     "text": [
      "/home/anton/miniforge3/envs/anuga_env/lib/python3.8/site-packages/anuga/structures/riverwall.py:124: RuntimeWarning: invalid value encountered in cast\n",
      "  self.hydraulic_properties_rowIndex=numpy.array([default_int]).astype(int)\n"
     ]
    }
   ],
   "source": [
    "import anuga, anuga.parallel, numpy, time, os, glob\n",
    "from anuga.operators.rate_operators import Polygonal_rate_operator\n",
    "from anuga import file_function, Polygon_function, read_polygon, create_mesh_from_regions, Domain, Inlet_operator\n",
    "import anuga.utilities.spatialInputUtil as su\n",
    "from anuga import distribute, myid, numprocs, finalize, barrier\n",
    "from anuga.parallel.parallel_operator_factory import Inlet_operator, Boyd_box_operator, Boyd_pipe_operator\n",
    "from anuga import Rate_operator\n",
    "from anuga import Region\n",
    "\n",
    "# import os\n",
    "import numpy as np\n",
    "from hymo import SWMMInpFile ### https://github.com/lucashtnguyen/hymo\n",
    "import pickle\n",
    "from pyswmm import Simulation, Nodes, Links, SystemStats\n",
    "import matplotlib.pyplot as plt\n",
    "\n",
    "import time\n",
    "from coupling_functions.inlet_initialization import initialize_inlets\n",
    "from coupling_functions.coupling import calculate_Q, calculate_Q_v2\n",
    "import matplotlib\n",
    "\n",
    "import datetime\n",
    "\n",
    "\n",
    "time_average = 10 # sec\n",
    "# dt           = 1.0    # yield step\n",
    "# ft           = 75 # final timestep\n",
    "ft           = 150 # final timestep\n",
    "\n",
    "\n",
    "plt.style.use('ggplot')\n",
    "matplotlib.rcParams['mathtext.fontset'] = 'stix'\n",
    "matplotlib.rcParams['font.family'] = 'STIXGeneral'\n",
    "matplotlib.rcParams.update({'font.size': 10})\n",
    "co = 0.6\n",
    "cw = 0.6\n",
    "n_sides        = 8\n",
    "output_frequency = 1\n",
    "do_new_coupling = True\n",
    "do_surf_rain    = False\n",
    "do_data_save    = True\n",
    "expand_polygon  = False\n",
    "zero_velocity   = False\n",
    "\n",
    "\n",
    "do_print        = True\n",
    "do_plot         = True\n",
    "basename = 'model/terrain'\n",
    "\n",
    "\n",
    "if do_surf_rain:\n",
    "    file_name = 'real_example_orifice'\n",
    "    inp_name = file_name + '.inp'\n",
    "else:\n",
    "    file_name = 'real_example_orifice_inflow'\n",
    "    inp_name = file_name + '.inp'\n",
    "\n",
    "outname  = file_name\n",
    "meshname = 'model/terrain.tsh'\n",
    "\n",
    "sim = Simulation(inp_name)\n",
    "inp = SWMMInpFile(inp_name)\n",
    "\n",
    "\n",
    "### Extract dt. Can either be datetime or decimal string\n",
    "# List interpretation\n",
    "if any([letter  == ':' for letter in inp.options.loc['ROUTING_STEP'].Value]):\n",
    "    dt = (datetime.datetime.strptime(inp.options.loc['ROUTING_STEP'].Value, \"%H:%M:%S\")- datetime.datetime(1900, 1, 1)).total_seconds()\n",
    "else:\n",
    "    dt = float(inp.options.loc['ROUTING_STEP'].Value)\n",
    "\n",
    "baseline_flows = []\n",
    "if do_surf_rain:\n",
    "    baseline_flows = [0.5, 0.0, 0.0, 0.0]\n",
    "else:\n",
    "    for inflow in inp.inflows.Baseline.values:\n",
    "        baseline_flows.append(inflow)\n",
    "baseline_flow  = sum(baseline_flows)\n",
    "\n",
    "if os.path.isdir('plots/') and do_plot:\n",
    "    plot_path = 'plots/'\n",
    "    if do_surf_rain:\n",
    "        plot_name = plot_path + f'volume_and_loss_inflow_{baseline_flow}_tavg_{time_average}_multi'\n",
    "    else: \n",
    "        plot_name = plot_path + f'volume_and_loss_inflow_{baseline_flow}_tavg_{time_average}_single'\n",
    "\n",
    "riverWall_csv_files = glob.glob('model/wall/*.csv') # Make a list of the csv files in BREAKLINES\n",
    "\n",
    "(riverWalls, riverWall_parameters) = su.readListOfRiverWalls(riverWall_csv_files)\n",
    "\n",
    "CatchmentDictionary = {'model/kerb/kerb1.csv':0.01, 'model/kerb/kerb2.csv':0.01}\n",
    "    \n",
    "bounding_polygon = anuga.read_polygon('model/domain.csv')\n",
    "interior_regions = anuga.read_polygon_dir(CatchmentDictionary, 'model/kerb')\n",
    "\n",
    "\n",
    "create_mesh_from_regions(bounding_polygon,\n",
    "    boundary_tags={'inflow': [12], 'bottom': [0,1,2,3,4,5], 'top': [7,8,9,10,11], 'outflow': [6]},\n",
    "    #boundary_tags=None,\n",
    "    # maximum_triangle_area = 0.25,\n",
    "    maximum_triangle_area = 0.5,\n",
    "    # breaklines = riverWalls.values(),\n",
    "    # interior_regions = interior_regions, # List of lists [polygon_coord, maximum triangle size]\n",
    "    filename = meshname,\n",
    "    use_cache = False,\n",
    "    verbose = False)\n",
    "\n",
    "\n",
    "domain = anuga.Domain(meshname, use_cache=False, verbose=False)\n",
    "# domain.set_minimum_storable_height(0.0)\n",
    "domain.set_minimum_storable_height(0.0001)\n",
    "domain.riverwallData.create_riverwalls(riverWalls,verbose = False) \n",
    "domain.set_name(outname) \n",
    "\n",
    "domain.set_quantity('friction', 0.025)\n",
    "domain.set_quantity('stage', 0)\n",
    "domain.set_quantity('elevation', filename=basename+'.csv', use_cache=False, verbose=False, alpha=0.99)\n",
    "\n",
    "Br = anuga.Reflective_boundary(domain)  \n",
    "Bd = anuga.Dirichlet_boundary([0,0,0])\n",
    "\n",
    "\n",
    "domain.set_boundary({'inflow': Bd, 'bottom': Bd, 'outflow': Bd, 'top': Bd})\n",
    "\n",
    "import matplotlib\n",
    "matplotlib.rcParams['mathtext.fontset'] = 'stix'\n",
    "matplotlib.rcParams['font.family'] = 'STIXGeneral'\n",
    "matplotlib.rcParams.update({'font.size': 10})"
   ]
  },
  {
   "cell_type": "code",
   "execution_count": null,
   "metadata": {},
   "outputs": [],
   "source": []
  },
  {
   "cell_type": "code",
   "execution_count": 7,
   "metadata": {},
   "outputs": [
    {
     "data": {
      "text/plain": [
       "([[305717.99, 6187990.157],\n",
       "  [305719.037, 6187991.248],\n",
       "  [305720.537, 6187992.89],\n",
       "  [305722.202, 6187995.063],\n",
       "  [305722.907, 6187996.068],\n",
       "  [305725.169, 6187999.922],\n",
       "  [305726.318, 6188002.032],\n",
       "  [305727.386, 6188004.251],\n",
       "  [305728.342, 6188006.621],\n",
       "  [305729.673, 6188007.101],\n",
       "  [305730.673, 6188010.204],\n",
       "  [305730.011, 6188011.433],\n",
       "  [305736.281, 6188029.596],\n",
       "  [305735.716, 6188029.807],\n",
       "  [305727.722, 6188006.879],\n",
       "  [305726.748, 6188004.491],\n",
       "  [305725.224, 6188001.443],\n",
       "  [305722.69, 6187997.155],\n",
       "  [305720.227, 6187993.717],\n",
       "  [305717.292, 6187990.185],\n",
       "  [305717.99, 6187990.157]],\n",
       " 0.01)"
      ]
     },
     "execution_count": 7,
     "metadata": {},
     "output_type": "execute_result"
    }
   ],
   "source": [
    "interior_regions[0]"
   ]
  },
  {
   "cell_type": "code",
   "execution_count": 10,
   "metadata": {},
   "outputs": [
    {
     "name": "stdout",
     "output_type": "stream",
     "text": [
      "[305698.51, 6188004.63]\n",
      "[305703.39, 6187999.0]\n",
      "[305713.18, 6188002.02]\n",
      "[305727.24, 6188004.61]\n",
      "[305698.51, 6188004.63]\n",
      "[305703.39, 6187999.0]\n",
      "[305713.18, 6188002.02]\n",
      "[305727.24, 6188004.61]\n"
     ]
    }
   ],
   "source": [
    "# node_ids      = [node.nodeid for node in Nodes(sim)]\n",
    "in_node_ids   = [node.nodeid for node in Nodes(sim) if node.is_junction()]\n",
    "n_in_nodes    = len(in_node_ids)\n",
    "\n",
    "### Initialize inlet operators\n",
    "inlet_area     = np.full((n_in_nodes),1.167)\n",
    "Q_in_0         = n_in_nodes*[0.0]\n",
    "Q_in_cumu      = sum(Q_in_0)\n",
    "inlet_vol_cumu = 0\n",
    "rotation = -np.pi/4\n",
    "inlet_ids = [node.nodeid for node in Nodes(sim) if node.is_junction()]\n",
    "\n",
    "\n",
    "# orifice_outfall_ids = [link.outlet_node for link in Links(sim) if link.is_orifice()]\n",
    "\n",
    "orifice_inlet2outlet={link.inlet_node : link.outlet_node for link in Links(sim) if link.is_orifice()}\n",
    "inlet2orifice={link.inlet_node : link.linkid for link in Links(sim) if link.is_orifice()}\n",
    "orifice_ids = [link.linkid for link in Links(sim) if link.is_orifice()]\n",
    "orifice_outfall_ids=[link.outlet_node for link in Links(sim) if link.is_orifice()]\n",
    "\n",
    "outfall_ids = [node.nodeid for node in Nodes(sim) if (node.is_outfall() and node.nodeid not in orifice_outfall_ids)]\n",
    "\n",
    "\n",
    "inlet_operators,inlet_elevation,inlet_weir_length,inlet_poly = initialize_inlets(domain, inp, inlet_ids, n_sides, inlet_area, Q_in_0, rotation = -np.pi/4, zero_velocity = zero_velocity, expand_polygon = expand_polygon)\n",
    "outfall_operators,_,_,outfall_poly                             = initialize_inlets(domain, inp, outfall_ids, n_sides, [1.167], Q_in_0, rotation = -np.pi/4, zero_velocity = zero_velocity, expand_polygon = expand_polygon)\n",
    "\n",
    "if do_surf_rain:\n",
    "    rain_operators,_,_,_ = initialize_inlets(domain, sim, inp, n_sides, inlet_area, baseline_flows, rotation = -np.pi/4, zero_velocity = zero_velocity, expand_polygon = expand_polygon)\n",
    "\n",
    "Q_in_old       = np.zeros_like(inlet_elevation)\n",
    "outfall_vol    = 0\n",
    "\n",
    "times            = []\n",
    "losses           = []\n",
    "outfall_vols     = []\n",
    "boundary_fluxs    = []\n",
    "applied_inflows  = []\n",
    "correct_vols  = []\n",
    "real_vols     = []\n",
    "anuga_depths_out = []\n",
    "sewer_volumes    = []\n",
    "inlet_floods     = []\n",
    "domain_volumes   = []\n",
    "conduit_depths = []\n",
    "\n",
    "if do_data_save:\n",
    "    Q_ins          = []\n",
    "    node_heads     = []\n",
    "invert_elev = [node.invert_elevation for node in Nodes(sim) if node.is_junction()]\n",
    "\n",
    "system_routing = SystemStats(sim)\n",
    "\n",
    "\n",
    "# plt.plot(np.array(bounding_polygon)[:,0],np.array(bounding_polygon)[:,1])\n",
    "# for poly in inlet_poly:\n",
    "#     plt.plot(np.array(poly)[:,0],np.array(poly)[:,1])\n",
    "# for outfall in outfall_poly:\n",
    "#     plt.plot(np.array(outfall)[:,0],np.array(outfall)[:,1])\n"
   ]
  },
  {
   "cell_type": "code",
   "execution_count": null,
   "metadata": {},
   "outputs": [],
   "source": []
  },
  {
   "cell_type": "code",
   "execution_count": 11,
   "metadata": {},
   "outputs": [],
   "source": [
    "# for node in Nodes(sim):\n",
    "#     if node.is_junction():\n",
    "#         inlet_operators[node.nodeid].inlet.region.plot_region()"
   ]
  },
  {
   "cell_type": "code",
   "execution_count": 12,
   "metadata": {},
   "outputs": [
    {
     "name": "stdout",
     "output_type": "stream",
     "text": [
      "\n",
      "t =  0.0\n",
      "Q_in = [0. 0. 0. 0.]\n",
      "2022-09-08 00:00:01\n"
     ]
    },
    {
     "ename": "TypeError",
     "evalue": "can't multiply sequence by non-int of type 'float'",
     "output_type": "error",
     "traceback": [
      "\u001b[0;31m---------------------------------------------------------------------------\u001b[0m",
      "\u001b[0;31mTypeError\u001b[0m                                 Traceback (most recent call last)",
      "Cell \u001b[0;32mIn[12], line 8\u001b[0m\n\u001b[1;32m      5\u001b[0m \u001b[39mfor\u001b[39;00m link \u001b[39min\u001b[39;00m Links(sim):\n\u001b[1;32m      6\u001b[0m     link_volume_0 \u001b[39m+\u001b[39m\u001b[39m=\u001b[39m link\u001b[39m.\u001b[39mvolume\n\u001b[0;32m----> 8\u001b[0m \u001b[39mfor\u001b[39;00m t \u001b[39min\u001b[39;00m domain\u001b[39m.\u001b[39mevolve(yieldstep\u001b[39m=\u001b[39mdt, finaltime\u001b[39m=\u001b[39mft):\n\u001b[1;32m      9\u001b[0m     anuga_depths \u001b[39m=\u001b[39m np\u001b[39m.\u001b[39marray([inlet_operators[in_id]\u001b[39m.\u001b[39minlet\u001b[39m.\u001b[39mget_average_depth() \u001b[39mfor\u001b[39;00m in_id \u001b[39min\u001b[39;00m in_node_ids])\n\u001b[1;32m     12\u001b[0m     \u001b[39m### Compute mass balance\u001b[39;00m\n",
      "File \u001b[0;32m~/miniforge3/envs/anuga_env/lib/python3.8/site-packages/anuga/shallow_water/shallow_water_domain.py:2636\u001b[0m, in \u001b[0;36mDomain.evolve\u001b[0;34m(self, yieldstep, outputstep, finaltime, duration, skip_initial_step)\u001b[0m\n\u001b[1;32m   2633\u001b[0m     \u001b[39mself\u001b[39m\u001b[39m.\u001b[39minitialise_storage()\n\u001b[1;32m   2635\u001b[0m \u001b[39m# Call basic machinery from parent class\u001b[39;00m\n\u001b[0;32m-> 2636\u001b[0m \u001b[39mfor\u001b[39;00m t \u001b[39min\u001b[39;00m \u001b[39mself\u001b[39m\u001b[39m.\u001b[39m_evolve_base(yieldstep\u001b[39m=\u001b[39myieldstep,\n\u001b[1;32m   2637\u001b[0m                            finaltime\u001b[39m=\u001b[39mfinaltime, duration\u001b[39m=\u001b[39mduration,\n\u001b[1;32m   2638\u001b[0m                            skip_initial_step\u001b[39m=\u001b[39mskip_initial_step):\n\u001b[1;32m   2641\u001b[0m     walltime \u001b[39m=\u001b[39m time\u001b[39m.\u001b[39mtime()\n\u001b[1;32m   2643\u001b[0m     \u001b[39m#print t , self.get_time()\u001b[39;00m\n\u001b[1;32m   2644\u001b[0m     \u001b[39m# Store model data, e.g. for subsequent visualisation\u001b[39;00m\n",
      "File \u001b[0;32m~/miniforge3/envs/anuga_env/lib/python3.8/site-packages/anuga/abstract_2d_finite_volumes/generic_domain.py:1741\u001b[0m, in \u001b[0;36mGeneric_Domain._evolve_base\u001b[0;34m(self, yieldstep, finaltime, duration, skip_initial_step)\u001b[0m\n\u001b[1;32m   1738\u001b[0m     \u001b[39mself\u001b[39m\u001b[39m.\u001b[39mevolve_one_rk3_step(yieldstep, \u001b[39mself\u001b[39m\u001b[39m.\u001b[39mfinaltime)\n\u001b[1;32m   1740\u001b[0m \u001b[39m# Apply other fractional steps\u001b[39;00m\n\u001b[0;32m-> 1741\u001b[0m \u001b[39mself\u001b[39;49m\u001b[39m.\u001b[39;49mapply_fractional_steps()\n\u001b[1;32m   1743\u001b[0m \u001b[39m# Centroid Values of variables should be ok\u001b[39;00m\n\u001b[1;32m   1744\u001b[0m \n\u001b[1;32m   1745\u001b[0m \u001b[39m# Update time\u001b[39;00m\n\u001b[1;32m   1746\u001b[0m \u001b[39mself\u001b[39m\u001b[39m.\u001b[39mset_time(initial_time \u001b[39m+\u001b[39m \u001b[39mself\u001b[39m\u001b[39m.\u001b[39mtimestep)\n",
      "File \u001b[0;32m~/miniforge3/envs/anuga_env/lib/python3.8/site-packages/anuga/abstract_2d_finite_volumes/generic_domain.py:2169\u001b[0m, in \u001b[0;36mGeneric_Domain.apply_fractional_steps\u001b[0;34m(self)\u001b[0m\n\u001b[1;32m   2167\u001b[0m \u001b[39mdef\u001b[39;00m \u001b[39mapply_fractional_steps\u001b[39m(\u001b[39mself\u001b[39m):\n\u001b[1;32m   2168\u001b[0m     \u001b[39mfor\u001b[39;00m operator \u001b[39min\u001b[39;00m \u001b[39mself\u001b[39m\u001b[39m.\u001b[39mfractional_step_operators:\n\u001b[0;32m-> 2169\u001b[0m         operator()\n",
      "File \u001b[0;32m~/miniforge3/envs/anuga_env/lib/python3.8/site-packages/anuga/parallel/parallel_inlet_operator.py:123\u001b[0m, in \u001b[0;36mParallel_Inlet_operator.__call__\u001b[0;34m(self)\u001b[0m\n\u001b[1;32m    120\u001b[0m Q1 \u001b[39m=\u001b[39m \u001b[39mself\u001b[39m\u001b[39m.\u001b[39mupdate_Q(t)\n\u001b[1;32m    121\u001b[0m Q2 \u001b[39m=\u001b[39m \u001b[39mself\u001b[39m\u001b[39m.\u001b[39mupdate_Q(t \u001b[39m+\u001b[39m timestep)\n\u001b[0;32m--> 123\u001b[0m volume \u001b[39m=\u001b[39m \u001b[39m0.5\u001b[39;49m\u001b[39m*\u001b[39;49m(Q1\u001b[39m+\u001b[39;49mQ2)\u001b[39m*\u001b[39mtimestep\n\u001b[1;32m    127\u001b[0m \u001b[39massert\u001b[39;00m current_volume \u001b[39m>\u001b[39m\u001b[39m=\u001b[39m \u001b[39m0.0\u001b[39m , \u001b[39m'\u001b[39m\u001b[39mVolume of watrer in inlet negative!\u001b[39m\u001b[39m'\u001b[39m\n\u001b[1;32m    129\u001b[0m \u001b[39mfor\u001b[39;00m i \u001b[39min\u001b[39;00m \u001b[39mself\u001b[39m\u001b[39m.\u001b[39mprocs:\n",
      "\u001b[0;31mTypeError\u001b[0m: can't multiply sequence by non-int of type 'float'"
     ]
    }
   ],
   "source": [
    "wall_clock_start = time.perf_counter()\n",
    "sim.start()\n",
    "old_inlet_vol = [- node.statistics['lateral_infow_vol'] + node.statistics['flooding_volume'] for node in Nodes(sim) if node.is_junction()]\n",
    "link_volume_0 = 0\n",
    "for link in Links(sim):\n",
    "    link_volume_0 += link.volume\n",
    "\n",
    "for t in domain.evolve(yieldstep=dt, finaltime=ft):\n",
    "    anuga_depths = np.array([inlet_operators[in_id].inlet.get_average_depth() for in_id in in_node_ids])\n",
    "\n",
    "\n",
    "    ### Compute mass balance\n",
    "    link_volume = sum([link.volume for link in Links(sim)])\n",
    "    node_volume = sum([node.volume for node in Nodes(sim)])\n",
    "    domain_volume        = domain.get_water_volume()\n",
    "    sewer_volume         = link_volume + node_volume\n",
    "    boundary_flux        = domain.get_boundary_flux_integral() # actually volume\n",
    "    outfall_vol         += Nodes(sim)['Outfall_1'].total_inflow*dt\n",
    "    total_volume_correct = t*sum(baseline_flows) + boundary_flux + link_volume_0 - outfall_vol \n",
    "    total_volume_real    = domain_volume + sewer_volume\n",
    "    applied_inflow       = (system_routing.routing_stats[\"external_inflow\"] - Q_in_cumu)*dt\n",
    "    ###\n",
    "    \n",
    "    node_head = np.array([node.head for node in Nodes(sim) if node.is_junction()])\n",
    "    \n",
    "    if do_new_coupling:\n",
    "        inlet_volumes = [inlet_operators[nodeid].inlet.get_total_water_volume() for nodeid in in_node_ids]\n",
    "        Q_in = 1.0 * calculate_Q_v2(node_head, anuga_depths, inlet_elevation, inlet_weir_length, inlet_area, inlet_volumes, dt, cw = cw, co = co)\n",
    "    else:\n",
    "        Q_in = 1.0 * calculate_Q(node_head, anuga_depths, inlet_elevation, inlet_weir_length, inlet_area, dt, cw = cw, co = co)\n",
    "\n",
    "    Q_in       = ((time_average - dt)*Q_in_old + dt*Q_in)/time_average\n",
    "    Q_in_old   = Q_in.copy()\n",
    "    Q_in_cumu += sum(Q_in)\n",
    "    \n",
    "    if do_data_save:\n",
    "        Q_ins.append(Q_in.copy())\n",
    "        node_heads.append(node_head.copy())\n",
    "        anuga_depths_out.append(anuga_depths.copy())\n",
    "\n",
    "    # Simulate sewer with flow input\n",
    "    for nodeid, Qin in zip(in_node_ids, Q_in): \n",
    "        Nodes(sim)[nodeid].generated_inflow(Qin)      \n",
    "    sim.step_advance(dt) \n",
    "    sim.next()\n",
    "\n",
    "    inlet_vol       = [- node.statistics['lateral_infow_vol'] + node.statistics['flooding_volume'] for node in Nodes(sim) if node.is_junction()]\n",
    "    inlet_flow      = [(new_vol - old_vol)/dt for new_vol, old_vol in zip(inlet_vol,old_inlet_vol)]\n",
    "    inlet_vol_cumu += sum(inlet_vol)\n",
    "    old_inlet_vol   = inlet_vol.copy()\n",
    "\n",
    "    inlet_idx = 0\n",
    "    if do_surf_rain:\n",
    "        for node in Nodes(sim):\n",
    "            if node.is_junction():\n",
    "                inlet_operators[node.nodeid].set_Q(inlet_flow[inlet_idx])\n",
    "                inlet_idx += 1\n",
    "\n",
    "    else: # Pipe rain\n",
    "         for node in Nodes(sim):\n",
    "            if node.is_junction():\n",
    "                inlet_operators[node.nodeid].set_Q(inlet_flow[inlet_idx] + baseline_flows[inlet_idx])\n",
    "                inlet_idx += 1\n",
    "\n",
    "\n",
    "    # ### Compute mass balance\n",
    "    # link_volume = sum([link.volume for link in Links(sim)])\n",
    "    # node_volume = sum([node.volume for node in Nodes(sim)])\n",
    "    # domain_volume        = domain.get_water_volume()\n",
    "    # sewer_volume         = link_volume + node_volume\n",
    "    # boundary_flux        = domain.get_boundary_flux_integral() # actually volume\n",
    "    # outfall_vol         += Nodes(sim)['Outfall_1'].total_inflow*dt\n",
    "    # total_volume_correct = t*sum(baseline_flows) + boundary_flux + link_volume_0 - outfall_vol \n",
    "    # total_volume_real    = domain_volume + sewer_volume\n",
    "    # applied_inflow       = (system_routing.routing_stats[\"external_inflow\"] - Q_in_cumu)*dt\n",
    "    # ###\n",
    "    \n",
    "\n",
    "\n",
    "\n",
    "    if do_data_save:\n",
    "        conduit_depths.append(np.array([link.depth for link in Links(sim)]))\n",
    "        applied_inflows.append(applied_inflow)\n",
    "        correct_vols.append(total_volume_correct)\n",
    "        real_vols.append(total_volume_real)\n",
    "        outfall_vols.append(outfall_vol)\n",
    "        loss = total_volume_real - total_volume_correct\n",
    "        losses.append(loss)\n",
    "        sewer_volumes.append(sewer_volume)\n",
    "        domain_volumes.append(domain_volume)\n",
    "        boundary_fluxs.append(boundary_flux)\n",
    "\n",
    "        times.append(t)\n",
    "    \n",
    "    if domain.yieldstep_counter%output_frequency == 0 and do_print:\n",
    "        print('\\nt = ',t)\n",
    "        print(f'Q_in = {Q_in}')\n",
    "        print(sim.current_time)\n",
    "    # sim.step_advance(dt) \n",
    "    # sim.next()\n",
    "\n",
    "sim.report()\n",
    "# sim.close()\n",
    "wall_clock_end = time.perf_counter()\n",
    "print('\\n')\n",
    "print(40*'#')\n",
    "print(f'Loss : {loss}')\n",
    "print(f'\\nComputation time: {wall_clock_end - wall_clock_start:.2f} seconds')\n"
   ]
  },
  {
   "cell_type": "code",
   "execution_count": null,
   "metadata": {},
   "outputs": [
    {
     "data": {
      "text/plain": [
       "[-0.500000044625196, -3.0821485245309532e-06, -2.3194405227886655e-05, 0.0]"
      ]
     },
     "execution_count": 86,
     "metadata": {},
     "output_type": "execute_result"
    }
   ],
   "source": [
    "inlet_flow"
   ]
  },
  {
   "cell_type": "code",
   "execution_count": null,
   "metadata": {},
   "outputs": [
    {
     "name": "stdout",
     "output_type": "stream",
     "text": [
      "cw,co: 0.6, 0.6\n",
      "Do new coupling: True\n",
      "####################\n",
      "Rain on surface: False\n",
      "Expand polygon: False\n",
      "Zero velocity: False\n",
      "baseline flows: [0.5, 0.0, 0.0, 0.0]\n"
     ]
    }
   ],
   "source": [
    "print(f'cw,co: {cw}, {co}')\n",
    "print(f'Do new coupling: {do_new_coupling}')\n",
    "print(20*'#')\n",
    "print(f'Rain on surface: {do_surf_rain}')\n",
    "print(f'Expand polygon: {expand_polygon}')\n",
    "print(f'Zero velocity: {zero_velocity}')\n",
    "print(f'baseline flows: {baseline_flows}')\n"
   ]
  },
  {
   "cell_type": "code",
   "execution_count": null,
   "metadata": {},
   "outputs": [],
   "source": []
  },
  {
   "cell_type": "code",
   "execution_count": null,
   "metadata": {},
   "outputs": [
    {
     "data": {
      "image/png": "[encoded data removed]",
      "text/plain": [
       "<Figure size 669.291x223.097 with 2 Axes>"
      ]
     },
     "metadata": {},
     "output_type": "display_data"
    }
   ],
   "source": [
    "inch = 2.54\n",
    "fig_size = 17\n",
    "# fig_size = 34\n",
    "\n",
    "fig_size = fig_size/inch\n",
    "fig_aspect = 3\n",
    "fig, ax = plt.subplots(1,1)\n",
    "fig.set_size_inches(fig_size, fig_size/fig_aspect, forward=True)\n",
    "\n",
    "ax.plot(times,correct_vols,label = 'Correct volume')\n",
    "# ax.plot(times,np.array(correct_vols)-np.array(Q_in_cumsums),label = 'Coupled model')\n",
    "ax.plot(times,real_vols,label = 'Real volume')\n",
    "\n",
    "ax.set_ylabel('Inflow volume[$m³$]')\n",
    "ax.set_xlabel('Time [$s$]')\n",
    "ax.yaxis.label.set_color(ax.get_lines()[1].get_color())\n",
    "ax.yaxis.set_major_locator(plt.MaxNLocator(4))\n",
    "# ax.plot(times, numpy.array(applied_inflows)+np.array(boundary_fluxs)-np.array(outfall_vols)-np.sum(Q_ins,axis = 1),label = 'Applied - boundary')\n",
    "\n",
    "diff_ax = ax.twinx()\n",
    "diff_ax.plot(times,losses,label = 'Loss',color = 'k',linestyle = '--')\n",
    "diff_ax.plot(times,np.array(real_vols)- np.array(correct_vols),label = 'Loss',color = 'k',linestyle = '--')\n",
    "\n",
    "diff_ax.grid(False)\n",
    "diff_ax.set_ylabel('Loss [$m³$]')\n",
    "diff_ax.yaxis.set_major_locator(plt.MaxNLocator(4))\n",
    "# diff_ax.set_ylim([-0.5, 0.5])\n",
    "# diff_ax.legend()\n",
    "\n",
    "# ax.set_title(f'${baseline_flow}$m³/s on Inlet 1')\n",
    "diff_ax.yaxis.label.set_color(diff_ax.get_lines()[0].get_color())\n",
    "ax.plot([],[],color = 'k',linestyle = '--',label = 'Loss')\n",
    "fig.tight_layout(pad = .5)\n",
    "handles, labels = ax.get_legend_handles_labels()\n",
    "lgd = fig.legend(handles, labels, loc=\"lower center\", bbox_to_anchor=(0.5,-0.15),handlelength=2,ncol=4)\n",
    "if False:\n",
    "    # plt.savefig(plot_path +'vol_vs_method_' + plotname + '.eps',format = 'eps', bbox_extra_artists=(lgd,), bbox_inches='tight')\n",
    "    # plt.savefig(plot_name + '.eps', bbox_inches='tight')\n",
    "    # plt.savefig(plot_name + '.png', bbox_inches='tight')\n",
    "    plt.savefig('plots/no_coupling_flooding_mass_conservation' + '.eps', bbox_inches='tight')\n",
    "    plt.savefig('plots/no_coupling_flooding_mass_conservation' + '.png', bbox_inches='tight')"
   ]
  },
  {
   "cell_type": "code",
   "execution_count": null,
   "metadata": {},
   "outputs": [
    {
     "data": {
      "text/html": [
       "<div>\n",
       "<style scoped>\n",
       "    .dataframe tbody tr th:only-of-type {\n",
       "        vertical-align: middle;\n",
       "    }\n",
       "\n",
       "    .dataframe tbody tr th {\n",
       "        vertical-align: top;\n",
       "    }\n",
       "\n",
       "    .dataframe thead th {\n",
       "        text-align: right;\n",
       "    }\n",
       "</style>\n",
       "<table border=\"1\" class=\"dataframe\">\n",
       "  <thead>\n",
       "    <tr style=\"text-align: right;\">\n",
       "      <th></th>\n",
       "      <th>Invert_Elev</th>\n",
       "      <th>Max_Depth</th>\n",
       "      <th>Init_Depth</th>\n",
       "      <th>Storage_Curve</th>\n",
       "    </tr>\n",
       "    <tr>\n",
       "      <th>Name</th>\n",
       "      <th></th>\n",
       "      <th></th>\n",
       "      <th></th>\n",
       "      <th></th>\n",
       "    </tr>\n",
       "  </thead>\n",
       "  <tbody>\n",
       "  </tbody>\n",
       "</table>\n",
       "</div>"
      ],
      "text/plain": [
       "Empty DataFrame\n",
       "Columns: [Invert_Elev, Max_Depth, Init_Depth, Storage_Curve]\n",
       "Index: []"
      ]
     },
     "execution_count": 89,
     "metadata": {},
     "output_type": "execute_result"
    }
   ],
   "source": [
    "inp.storage"
   ]
  },
  {
   "cell_type": "code",
   "execution_count": null,
   "metadata": {},
   "outputs": [
    {
     "data": {
      "text/html": [
       "<div>\n",
       "<style scoped>\n",
       "    .dataframe tbody tr th:only-of-type {\n",
       "        vertical-align: middle;\n",
       "    }\n",
       "\n",
       "    .dataframe tbody tr th {\n",
       "        vertical-align: top;\n",
       "    }\n",
       "\n",
       "    .dataframe thead th {\n",
       "        text-align: right;\n",
       "    }\n",
       "</style>\n",
       "<table border=\"1\" class=\"dataframe\">\n",
       "  <thead>\n",
       "    <tr style=\"text-align: right;\">\n",
       "      <th></th>\n",
       "      <th>Inlet_Node</th>\n",
       "      <th>Outlet_Node</th>\n",
       "      <th>Length</th>\n",
       "      <th>Manning_N</th>\n",
       "      <th>Inlet_Offset</th>\n",
       "      <th>Outlet_Offset</th>\n",
       "      <th>Init_Flow</th>\n",
       "      <th>Max_Flow</th>\n",
       "    </tr>\n",
       "    <tr>\n",
       "      <th>Name</th>\n",
       "      <th></th>\n",
       "      <th></th>\n",
       "      <th></th>\n",
       "      <th></th>\n",
       "      <th></th>\n",
       "      <th></th>\n",
       "      <th></th>\n",
       "      <th></th>\n",
       "    </tr>\n",
       "  </thead>\n",
       "  <tbody>\n",
       "    <tr>\n",
       "      <th>Conduit_1</th>\n",
       "      <td>Inlet_1</td>\n",
       "      <td>Inlet_2</td>\n",
       "      <td>7.443</td>\n",
       "      <td>0.013</td>\n",
       "      <td>0</td>\n",
       "      <td>0</td>\n",
       "      <td>0</td>\n",
       "      <td>0</td>\n",
       "    </tr>\n",
       "    <tr>\n",
       "      <th>Conduit_2</th>\n",
       "      <td>Inlet_2</td>\n",
       "      <td>Inlet_3</td>\n",
       "      <td>10.251</td>\n",
       "      <td>0.013</td>\n",
       "      <td>0</td>\n",
       "      <td>0</td>\n",
       "      <td>0</td>\n",
       "      <td>0</td>\n",
       "    </tr>\n",
       "    <tr>\n",
       "      <th>Conduit_3</th>\n",
       "      <td>Inlet_3</td>\n",
       "      <td>Inlet_4</td>\n",
       "      <td>14.295</td>\n",
       "      <td>0.013</td>\n",
       "      <td>0</td>\n",
       "      <td>0</td>\n",
       "      <td>0</td>\n",
       "      <td>0</td>\n",
       "    </tr>\n",
       "    <tr>\n",
       "      <th>Conduit_4</th>\n",
       "      <td>Inlet_4</td>\n",
       "      <td>Outfall_1</td>\n",
       "      <td>24.000</td>\n",
       "      <td>0.013</td>\n",
       "      <td>0</td>\n",
       "      <td>0</td>\n",
       "      <td>0</td>\n",
       "      <td>0</td>\n",
       "    </tr>\n",
       "  </tbody>\n",
       "</table>\n",
       "</div>"
      ],
      "text/plain": [
       "          Inlet_Node Outlet_Node  Length  Manning_N  Inlet_Offset  \\\n",
       "Name                                                                \n",
       "Conduit_1    Inlet_1     Inlet_2   7.443      0.013             0   \n",
       "Conduit_2    Inlet_2     Inlet_3  10.251      0.013             0   \n",
       "Conduit_3    Inlet_3     Inlet_4  14.295      0.013             0   \n",
       "Conduit_4    Inlet_4   Outfall_1  24.000      0.013             0   \n",
       "\n",
       "           Outlet_Offset  Init_Flow  Max_Flow  \n",
       "Name                                           \n",
       "Conduit_1              0          0         0  \n",
       "Conduit_2              0          0         0  \n",
       "Conduit_3              0          0         0  \n",
       "Conduit_4              0          0         0  "
      ]
     },
     "execution_count": 90,
     "metadata": {},
     "output_type": "execute_result"
    }
   ],
   "source": [
    "inp.conduits"
   ]
  },
  {
   "cell_type": "code",
   "execution_count": null,
   "metadata": {},
   "outputs": [
    {
     "data": {
      "text/plain": [
       "[<matplotlib.lines.Line2D at 0x7fa6a7fc69d0>,\n",
       " <matplotlib.lines.Line2D at 0x7fa6a7fc68b0>,\n",
       " <matplotlib.lines.Line2D at 0x7fa6a7fc68e0>,\n",
       " <matplotlib.lines.Line2D at 0x7fa6a7f4c640>,\n",
       " <matplotlib.lines.Line2D at 0x7fa6a7f4c730>,\n",
       " <matplotlib.lines.Line2D at 0x7fa6a7f4c850>,\n",
       " <matplotlib.lines.Line2D at 0x7fa6a7f4c940>,\n",
       " <matplotlib.lines.Line2D at 0x7fa6a7fc6880>]"
      ]
     },
     "execution_count": 27,
     "metadata": {},
     "output_type": "execute_result"
    },
    {
     "data": {
      "image/png": "[encoded data removed]",
      "text/plain": [
       "<Figure size 640x480 with 1 Axes>"
      ]
     },
     "metadata": {},
     "output_type": "display_data"
    }
   ],
   "source": [
    "plt.plot(conduit_depths)"
   ]
  },
  {
   "cell_type": "code",
   "execution_count": null,
   "metadata": {},
   "outputs": [
    {
     "data": {
      "text/plain": [
       "1.0"
      ]
     },
     "execution_count": 28,
     "metadata": {},
     "output_type": "execute_result"
    }
   ],
   "source": [
    "dt"
   ]
  },
  {
   "cell_type": "code",
   "execution_count": null,
   "metadata": {},
   "outputs": [
    {
     "data": {
      "text/plain": [
       "-74.4090823754233"
      ]
     },
     "execution_count": 29,
     "metadata": {},
     "output_type": "execute_result"
    }
   ],
   "source": [
    "loss"
   ]
  },
  {
   "cell_type": "code",
   "execution_count": null,
   "metadata": {},
   "outputs": [
    {
     "data": {
      "text/plain": [
       "array([0.07983797, 0.07983797, 0.07983797, 0.07983797])"
      ]
     },
     "execution_count": 30,
     "metadata": {},
     "output_type": "execute_result"
    }
   ],
   "source": [
    "inlet_weir_length"
   ]
  },
  {
   "cell_type": "code",
   "execution_count": null,
   "metadata": {},
   "outputs": [
    {
     "data": {
      "text/plain": [
       "array([38.58406979, 37.49861511, 35.63148719, 34.44195985])"
      ]
     },
     "execution_count": 31,
     "metadata": {},
     "output_type": "execute_result"
    }
   ],
   "source": [
    "inlet_elevation"
   ]
  },
  {
   "cell_type": "code",
   "execution_count": null,
   "metadata": {},
   "outputs": [
    {
     "data": {
      "image/png": "[encoded data removed]",
      "text/plain": [
       "<Figure size 669.291x223.097 with 2 Axes>"
      ]
     },
     "metadata": {},
     "output_type": "display_data"
    }
   ],
   "source": [
    "inch = 2.54\n",
    "fig_size = 17\n",
    "# fig_size = 34\n",
    "\n",
    "fig_size = fig_size/inch\n",
    "fig_aspect = 3\n",
    "fig, ax = plt.subplots(1,1)\n",
    "fig.set_size_inches(fig_size, fig_size/fig_aspect, forward=True)\n",
    "\n",
    "ax.plot(times,np.array(node_heads)[:,2],label = 'SWMM Head')\n",
    "# ax.plot(times,np.array(correct_vols)-np.array(Q_in_cumsums),label = 'Coupled model')\n",
    "ax.plot(times,np.array(anuga_depths_out)[:,2] + inlet_elevation[2],label = 'ANUGA Depth')\n",
    "\n",
    "ax.set_ylabel('Height[$m$]')\n",
    "ax.set_xlabel('Time [$s$]')\n",
    "ax.yaxis.label.set_color(ax.get_lines()[1].get_color())\n",
    "ax.yaxis.set_major_locator(plt.MaxNLocator(4))\n",
    "# ax.plot([0,50],[invert_elev[2] + inp.junctions.loc['Inlet_3'].Max_Depth,invert_elev[2] + inp.junctions.loc['Inlet_3'].Max_Depth],color = [0.4,0.4,0.4],linestyle = ':',label = 'Invert + Max')\n",
    "ax.plot([0,50],[invert_elev[2] + inp.junctions.loc['Inlet_3'].Max_Depth + inp.junctions.loc['Inlet_3'].Surcharge_Depth,invert_elev[2] + inp.junctions.loc['Inlet_3'].Max_Depth + inp.junctions.loc['Inlet_3'].Surcharge_Depth],color = [0.3,0.3,0.3],linestyle = ':',label = 'Invert + Max + sur')\n",
    "\n",
    "diff_ax = ax.twinx()\n",
    "diff_ax.plot(times,np.array(Q_ins)[:,2],label = 'Loss',color = 'k',linestyle = '--')\n",
    "diff_ax.grid(False)\n",
    "diff_ax.set_ylabel('Inflow [$m³/s$]')\n",
    "diff_ax.yaxis.set_major_locator(plt.MaxNLocator(4))\n",
    "# diff_ax.set_ylim([-0.5, 0.5])\n",
    "# diff_ax.legend()\n",
    "\n",
    "# ax.set_title(f'${baseline_flow}$m³/s on Inlet 3')\n",
    "diff_ax.yaxis.label.set_color(diff_ax.get_lines()[0].get_color())\n",
    "ax.plot([],[],color = 'k',linestyle = '--',label = 'Inflow')\n",
    "fig.tight_layout(pad = .5)\n",
    "handles, labels = ax.get_legend_handles_labels()\n",
    "lgd = fig.legend(handles, labels, loc=\"lower center\", bbox_to_anchor=(0.5,-0.15),handlelength=1.5,ncol=5)\n",
    "\n",
    "plot_path + f'inflow_and_loss_inflow_{baseline_flow}_tavg_{time_average}_surd_{inp.junctions.loc[\"Inlet_3\"].Surcharge_Depth}_maxd_{inp.junctions.loc[\"Inlet_3\"].Max_Depth}'\n",
    "if False:\n",
    "    # plt.savefig(plot_path +'vol_vs_method_' + plotname + '.eps',format = 'eps', bbox_extra_artists=(lgd,), bbox_inches='tight')\n",
    "    plt.savefig(plot_path + f'depths_inflow_inlet_3_{baseline_flow}_tavg_{time_average}_surd_{inp.junctions.loc[\"Inlet_3\"].Surcharge_Depth}_maxd_{inp.junctions.loc[\"Inlet_3\"].Max_Depth}.eps', bbox_inches='tight')\n",
    "    plt.savefig(plot_path + f'depths_inflow_inlet_3_{baseline_flow}_tavg_{time_average}_surd_{inp.junctions.loc[\"Inlet_3\"].Surcharge_Depth}_maxd_{inp.junctions.loc[\"Inlet_3\"].Max_Depth}.png', bbox_inches='tight')\n"
   ]
  },
  {
   "cell_type": "code",
   "execution_count": null,
   "metadata": {},
   "outputs": [],
   "source": [
    "if do_data_save and False:\n",
    "\n",
    "    pick = outname + '.dat'\n",
    "\n",
    "    data = {'times':times, 'conduit_depths':conduit_depths, 'node_heads':node_heads, 'Q_in':Q_in, 'inlet_vol_sum':sum(inlet_vol) }\n",
    "\n",
    "    with open(pick, \"wb\") as f:\n",
    "        pickle.dump(data, f)"
   ]
  }
 ],
 "metadata": {
  "kernelspec": {
   "display_name": "anuga_env",
   "language": "python",
   "name": "python3"
  },
  "language_info": {
   "codemirror_mode": {
    "name": "ipython",
    "version": 3
   },
   "file_extension": ".py",
   "mimetype": "text/x-python",
   "name": "python",
   "nbconvert_exporter": "python",
   "pygments_lexer": "ipython3",
   "version": "3.8.15"
  },
  "orig_nbformat": 4,
  "vscode": {
   "interpreter": {
    "hash": "0ab8be04fbfed4917f8b756876549c210d3b1e2ffe18960e1b6c9738467d3a9a"
   }
  }
 },
 "nbformat": 4,
 "nbformat_minor": 2
}
